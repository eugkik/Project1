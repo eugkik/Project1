{
 "cells": [
  {
   "cell_type": "code",
   "execution_count": 1,
   "id": "d485f473",
   "metadata": {},
   "outputs": [],
   "source": [
    "import pandas as pd\n",
    "import matplotlib.pyplot as plt\n",
    "import gmaps\n",
    "import scipy.stats as st\n",
    "#from api_keys import g_key\n",
    "import numpy as np\n",
    "import seaborn as sns"
   ]
  },
  {
   "cell_type": "code",
   "execution_count": 2,
   "id": "efac6980",
   "metadata": {},
   "outputs": [],
   "source": [
    "# Import base data\n",
    "complete_df = pd.read_csv('output/output_data_V2.csv')"
   ]
  },
  {
   "cell_type": "code",
   "execution_count": 3,
   "id": "a4ab3989",
   "metadata": {},
   "outputs": [],
   "source": [
    "complete_df.rename(columns={'NOC_x':'NOC'}, inplace=True)"
   ]
  },
  {
   "cell_type": "code",
   "execution_count": 4,
   "id": "ce7f0ebb",
   "metadata": {},
   "outputs": [],
   "source": [
    "# Separate data into winter/summer\n",
    "winter_only = complete_df.loc[complete_df['Season']=='Winter',:]\n",
    "summer_only = complete_df.loc[complete_df['Season']=='Summer',:]"
   ]
  },
  {
   "cell_type": "markdown",
   "id": "6fb3f773",
   "metadata": {},
   "source": [
    "#### Source data has all athlete medal counts.  Need to find Medals per Event in order to eliminate multiple medals for team events."
   ]
  },
  {
   "cell_type": "code",
   "execution_count": 5,
   "id": "e4d26bbf",
   "metadata": {},
   "outputs": [],
   "source": [
    "# Winter: create new columns for Gold, Silver, Bronze. Tally medal results into new columns\n",
    "winter_medals = winter_only[['NOC','name','Year','Event','Medal','latitude','longitude']].copy()\n",
    "for index, row in winter_medals.iterrows():\n",
    "    if winter_medals.loc[index,'Medal'] == 'Gold':\n",
    "        winter_medals.loc[index,'Gold'] = 1\n",
    "    elif winter_medals.loc[index,'Medal'] == 'Silver':\n",
    "        winter_medals.loc[index,'Silver'] = 1\n",
    "    elif winter_medals.loc[index,'Medal'] == 'Bronze':\n",
    "        winter_medals.loc[index,'Bronze'] = 1"
   ]
  },
  {
   "cell_type": "code",
   "execution_count": 6,
   "id": "4a12b3c5",
   "metadata": {},
   "outputs": [],
   "source": [
    "# Summer: create new columns for Gold, Silver, Bronze. Tally medal results into new columns\n",
    "summer_medals = summer_only[['NOC','name','Year','Event','Medal','latitude','longitude']].copy()\n",
    "for index, row in summer_medals.iterrows():\n",
    "    if summer_medals.loc[index,'Medal'] == 'Gold':\n",
    "        summer_medals.loc[index,'Gold'] = 1\n",
    "    elif summer_medals.loc[index,'Medal'] == 'Silver':\n",
    "        summer_medals.loc[index,'Silver'] = 1\n",
    "    elif summer_medals.loc[index,'Medal'] == 'Bronze':\n",
    "        summer_medals.loc[index,'Bronze'] = 1"
   ]
  },
  {
   "cell_type": "code",
   "execution_count": 7,
   "id": "22de4d59",
   "metadata": {},
   "outputs": [],
   "source": [
    "# Create new dataframes to average latitude and longitude\n",
    "# Needed because some longitude values are not equal to all decimal places, resulting in incorrect groupby\n",
    "winter_events = winter_medals.groupby(['NOC','name','Year','Event','latitude','longitude']).mean().reset_index()\n",
    "summer_events = summer_medals.groupby(['NOC','name','Year','Event','latitude','longitude']).mean().reset_index()"
   ]
  },
  {
   "cell_type": "code",
   "execution_count": 8,
   "id": "32b5d2fa",
   "metadata": {},
   "outputs": [],
   "source": [
    "# Create new dataframes\n",
    "winter_noc = winter_events.groupby(['NOC','name','Year','latitude','longitude'])[['Gold','Silver','Bronze']].sum().reset_index()\n",
    "summer_noc = summer_events.groupby(['NOC','name','Year','latitude','longitude'])[['Gold','Silver','Bronze']].sum().reset_index()"
   ]
  },
  {
   "cell_type": "code",
   "execution_count": 9,
   "id": "6fff3509",
   "metadata": {},
   "outputs": [],
   "source": [
    "# Remove Summer years before 1924 to align with Winter years\n",
    "summer_noc = summer_noc.loc[summer_noc['Year']>=1924,:].copy()"
   ]
  },
  {
   "cell_type": "code",
   "execution_count": 10,
   "id": "3fa70b7a",
   "metadata": {},
   "outputs": [],
   "source": [
    "# Create new column to sum all medals won by event\n",
    "winter_noc['Total Medals'] = winter_noc['Gold']+winter_noc['Silver']+winter_noc['Bronze']\n",
    "summer_noc['Total Medals'] = summer_noc['Gold']+summer_noc['Silver']+summer_noc['Bronze']"
   ]
  },
  {
   "cell_type": "code",
   "execution_count": 11,
   "id": "13a7626e",
   "metadata": {},
   "outputs": [
    {
     "name": "stderr",
     "output_type": "stream",
     "text": [
      "<ipython-input-11-bd787cfbd077>:2: FutureWarning: Indexing with multiple keys (implicitly converted to a tuple of keys) will be deprecated, use a list instead.\n",
      "  winter_df = winter_noc.groupby(['NOC','name','latitude','longitude'])['Gold','Silver','Bronze','Total Medals'].sum().reset_index()\n",
      "<ipython-input-11-bd787cfbd077>:3: FutureWarning: Indexing with multiple keys (implicitly converted to a tuple of keys) will be deprecated, use a list instead.\n",
      "  summer_df = summer_noc.groupby(['NOC','name','latitude','longitude'])['Gold','Silver','Bronze','Total Medals'].sum().reset_index()\n"
     ]
    }
   ],
   "source": [
    "# Sum total medals won by country\n",
    "winter_df = winter_noc.groupby(['NOC','name','latitude','longitude'])['Gold','Silver','Bronze','Total Medals'].sum().reset_index()\n",
    "summer_df = summer_noc.groupby(['NOC','name','latitude','longitude'])['Gold','Silver','Bronze','Total Medals'].sum().reset_index()"
   ]
  },
  {
   "cell_type": "code",
   "execution_count": 12,
   "id": "4244309c",
   "metadata": {},
   "outputs": [],
   "source": [
    "# Add new columns for percent of total medals won\n",
    "total_medals_winter = winter_df['Total Medals'].sum()\n",
    "total_medals_summer = summer_df['Total Medals'].sum()\n",
    "\n",
    "winter_df['Medals Won %'] = winter_df['Total Medals']/total_medals_winter*100\n",
    "summer_df['Medals Won %'] = summer_df['Total Medals']/total_medals_summer*100"
   ]
  },
  {
   "cell_type": "code",
   "execution_count": 13,
   "id": "24551629",
   "metadata": {},
   "outputs": [
    {
     "data": {
      "text/html": [
       "<div>\n",
       "<style scoped>\n",
       "    .dataframe tbody tr th:only-of-type {\n",
       "        vertical-align: middle;\n",
       "    }\n",
       "\n",
       "    .dataframe tbody tr th {\n",
       "        vertical-align: top;\n",
       "    }\n",
       "\n",
       "    .dataframe thead th {\n",
       "        text-align: right;\n",
       "    }\n",
       "</style>\n",
       "<table border=\"1\" class=\"dataframe\">\n",
       "  <thead>\n",
       "    <tr style=\"text-align: right;\">\n",
       "      <th></th>\n",
       "      <th>NOC</th>\n",
       "      <th>name</th>\n",
       "      <th>latitude</th>\n",
       "      <th>longitude</th>\n",
       "      <th>Gold</th>\n",
       "      <th>Silver</th>\n",
       "      <th>Bronze</th>\n",
       "      <th>Total Medals</th>\n",
       "      <th>Medals Won %</th>\n",
       "    </tr>\n",
       "  </thead>\n",
       "  <tbody>\n",
       "    <tr>\n",
       "      <th>0</th>\n",
       "      <td>ALB</td>\n",
       "      <td>Albania</td>\n",
       "      <td>41.153332</td>\n",
       "      <td>20.168331</td>\n",
       "      <td>0.0</td>\n",
       "      <td>0.0</td>\n",
       "      <td>0.0</td>\n",
       "      <td>0.0</td>\n",
       "      <td>0.000000</td>\n",
       "    </tr>\n",
       "    <tr>\n",
       "      <th>1</th>\n",
       "      <td>AND</td>\n",
       "      <td>Andorra</td>\n",
       "      <td>42.546245</td>\n",
       "      <td>1.601554</td>\n",
       "      <td>0.0</td>\n",
       "      <td>0.0</td>\n",
       "      <td>0.0</td>\n",
       "      <td>0.0</td>\n",
       "      <td>0.000000</td>\n",
       "    </tr>\n",
       "    <tr>\n",
       "      <th>2</th>\n",
       "      <td>ARG</td>\n",
       "      <td>Argentina</td>\n",
       "      <td>-38.416097</td>\n",
       "      <td>-63.616672</td>\n",
       "      <td>0.0</td>\n",
       "      <td>0.0</td>\n",
       "      <td>0.0</td>\n",
       "      <td>0.0</td>\n",
       "      <td>0.000000</td>\n",
       "    </tr>\n",
       "    <tr>\n",
       "      <th>3</th>\n",
       "      <td>ARM</td>\n",
       "      <td>Armenia</td>\n",
       "      <td>40.069099</td>\n",
       "      <td>45.038189</td>\n",
       "      <td>0.0</td>\n",
       "      <td>0.0</td>\n",
       "      <td>0.0</td>\n",
       "      <td>0.0</td>\n",
       "      <td>0.000000</td>\n",
       "    </tr>\n",
       "    <tr>\n",
       "      <th>4</th>\n",
       "      <td>AUS</td>\n",
       "      <td>Australia</td>\n",
       "      <td>-25.274398</td>\n",
       "      <td>133.775136</td>\n",
       "      <td>6.0</td>\n",
       "      <td>3.0</td>\n",
       "      <td>4.0</td>\n",
       "      <td>13.0</td>\n",
       "      <td>0.668724</td>\n",
       "    </tr>\n",
       "    <tr>\n",
       "      <th>...</th>\n",
       "      <td>...</td>\n",
       "      <td>...</td>\n",
       "      <td>...</td>\n",
       "      <td>...</td>\n",
       "      <td>...</td>\n",
       "      <td>...</td>\n",
       "      <td>...</td>\n",
       "      <td>...</td>\n",
       "      <td>...</td>\n",
       "    </tr>\n",
       "    <tr>\n",
       "      <th>69</th>\n",
       "      <td>TUR</td>\n",
       "      <td>Turkey</td>\n",
       "      <td>38.963745</td>\n",
       "      <td>35.243322</td>\n",
       "      <td>0.0</td>\n",
       "      <td>0.0</td>\n",
       "      <td>0.0</td>\n",
       "      <td>0.0</td>\n",
       "      <td>0.000000</td>\n",
       "    </tr>\n",
       "    <tr>\n",
       "      <th>70</th>\n",
       "      <td>UKR</td>\n",
       "      <td>Ukraine</td>\n",
       "      <td>48.379433</td>\n",
       "      <td>31.165580</td>\n",
       "      <td>2.0</td>\n",
       "      <td>1.0</td>\n",
       "      <td>4.0</td>\n",
       "      <td>7.0</td>\n",
       "      <td>0.360082</td>\n",
       "    </tr>\n",
       "    <tr>\n",
       "      <th>71</th>\n",
       "      <td>USA</td>\n",
       "      <td>United States</td>\n",
       "      <td>37.090240</td>\n",
       "      <td>-95.712891</td>\n",
       "      <td>96.0</td>\n",
       "      <td>99.0</td>\n",
       "      <td>84.0</td>\n",
       "      <td>279.0</td>\n",
       "      <td>14.351852</td>\n",
       "    </tr>\n",
       "    <tr>\n",
       "      <th>72</th>\n",
       "      <td>UZB</td>\n",
       "      <td>Uzbekistan</td>\n",
       "      <td>41.377491</td>\n",
       "      <td>64.585262</td>\n",
       "      <td>1.0</td>\n",
       "      <td>0.0</td>\n",
       "      <td>0.0</td>\n",
       "      <td>1.0</td>\n",
       "      <td>0.051440</td>\n",
       "    </tr>\n",
       "    <tr>\n",
       "      <th>73</th>\n",
       "      <td>VEN</td>\n",
       "      <td>Venezuela</td>\n",
       "      <td>6.423750</td>\n",
       "      <td>-66.589730</td>\n",
       "      <td>0.0</td>\n",
       "      <td>0.0</td>\n",
       "      <td>0.0</td>\n",
       "      <td>0.0</td>\n",
       "      <td>0.000000</td>\n",
       "    </tr>\n",
       "  </tbody>\n",
       "</table>\n",
       "<p>74 rows × 9 columns</p>\n",
       "</div>"
      ],
      "text/plain": [
       "    NOC           name   latitude   longitude  Gold  Silver  Bronze  \\\n",
       "0   ALB        Albania  41.153332   20.168331   0.0     0.0     0.0   \n",
       "1   AND        Andorra  42.546245    1.601554   0.0     0.0     0.0   \n",
       "2   ARG      Argentina -38.416097  -63.616672   0.0     0.0     0.0   \n",
       "3   ARM        Armenia  40.069099   45.038189   0.0     0.0     0.0   \n",
       "4   AUS      Australia -25.274398  133.775136   6.0     3.0     4.0   \n",
       "..  ...            ...        ...         ...   ...     ...     ...   \n",
       "69  TUR         Turkey  38.963745   35.243322   0.0     0.0     0.0   \n",
       "70  UKR        Ukraine  48.379433   31.165580   2.0     1.0     4.0   \n",
       "71  USA  United States  37.090240  -95.712891  96.0    99.0    84.0   \n",
       "72  UZB     Uzbekistan  41.377491   64.585262   1.0     0.0     0.0   \n",
       "73  VEN      Venezuela   6.423750  -66.589730   0.0     0.0     0.0   \n",
       "\n",
       "    Total Medals  Medals Won %  \n",
       "0            0.0      0.000000  \n",
       "1            0.0      0.000000  \n",
       "2            0.0      0.000000  \n",
       "3            0.0      0.000000  \n",
       "4           13.0      0.668724  \n",
       "..           ...           ...  \n",
       "69           0.0      0.000000  \n",
       "70           7.0      0.360082  \n",
       "71         279.0     14.351852  \n",
       "72           1.0      0.051440  \n",
       "73           0.0      0.000000  \n",
       "\n",
       "[74 rows x 9 columns]"
      ]
     },
     "execution_count": 13,
     "metadata": {},
     "output_type": "execute_result"
    }
   ],
   "source": [
    "winter_df"
   ]
  },
  {
   "cell_type": "markdown",
   "id": "4d4cbef4",
   "metadata": {},
   "source": [
    "## Heatmap - Medals Won % vs Latitude"
   ]
  },
  {
   "cell_type": "code",
   "execution_count": 14,
   "id": "41b294b1",
   "metadata": {},
   "outputs": [],
   "source": [
    "# Comment out...not used for analysis\n",
    "\n",
    "#gmaps.configure(api_key=g_key)\n",
    "#locations = winter_df[['latitude','longitude']]\n",
    "#w_medals = winter_df['Medals Won %']\n",
    "#winter = gmaps.figure()\n",
    "#heatmap_layer = gmaps.heatmap_layer(locations, weights=w_medals, dissipating=False, max_intensity=20, point_radius = 10)\n",
    "#winter.add_layer(heatmap_layer)\n",
    "#winter"
   ]
  },
  {
   "cell_type": "code",
   "execution_count": 15,
   "id": "846c00c2",
   "metadata": {},
   "outputs": [],
   "source": [
    "# Comment out...not used for analysis\n",
    "\n",
    "#gmaps.configure(api_key=g_key)\n",
    "#locations = summer_df[['latitude','longitude']]\n",
    "#s_medals = summer_df['Medals Won %']\n",
    "#summer = gmaps.figure()\n",
    "#heatmap_layer = gmaps.heatmap_layer(locations, weights=s_medals, dissipating=False, max_intensity=20, point_radius = 10)\n",
    "#summer.add_layer(heatmap_layer)\n",
    "#summer"
   ]
  },
  {
   "cell_type": "markdown",
   "id": "5a452946",
   "metadata": {},
   "source": [
    "# Scatter plot - Medals Won % vs Northern Latitude"
   ]
  },
  {
   "cell_type": "code",
   "execution_count": 16,
   "id": "9d089cce",
   "metadata": {},
   "outputs": [],
   "source": [
    "# Drop southern latitude countries\n",
    "winter_df = winter_df.loc[winter_df['latitude']>0,:]\n",
    "summer_df = summer_df.loc[summer_df['latitude']>0,:]"
   ]
  },
  {
   "cell_type": "markdown",
   "id": "baf40dab",
   "metadata": {},
   "source": [
    "## Winter Olympics"
   ]
  },
  {
   "cell_type": "code",
   "execution_count": 78,
   "id": "ad1f185c",
   "metadata": {
    "scrolled": false
   },
   "outputs": [
    {
     "data": {
      "image/png": "[encoded data removed]",
      "text/plain": [
       "<Figure size 432x288 with 1 Axes>"
      ]
     },
     "metadata": {
      "needs_background": "light"
     },
     "output_type": "display_data"
    }
   ],
   "source": [
    "# Plot scatter chart\n",
    "medals_winter = winter_df['Medals Won %']\n",
    "lat_winter = winter_df['latitude']\n",
    "\n",
    "slope_w, intercept_w, rvalue_w = st.linregress(medals_winter,lat_winter)[0:3]\n",
    "line_w = slope_w*medals_winter+intercept_w\n",
    "\n",
    "plt.scatter(medals_winter, lat_winter, facecolors=\"blue\", alpha=0.5)\n",
    "plt.plot(medals_winter,line_w, color='r')\n",
    "\n",
    "plt.title('Winter: Northern Hemisphere % Medals Won')\n",
    "plt.xlabel('Percent of Medals Won')\n",
    "plt.ylabel('Latitude')\n",
    "\n",
    "line_eq_w = f'y = {round(slope_w,2)}x + {round(intercept_w,2)}'\n",
    "r_w = f'r = {round(rvalue_w,2)}'\n",
    "plt.annotate(line_eq_w,(7.6,21),fontsize=15,color=\"red\")\n",
    "plt.annotate(r_w,(7.6,11),fontsize=15,color=\"red\")\n",
    "\n",
    "plt.grid()\n",
    "\n",
    "plt.savefig('output/winter-latitude performance.png', facecolor='w')\n",
    "plt.show()"
   ]
  },
  {
   "cell_type": "markdown",
   "id": "82bb4896",
   "metadata": {},
   "source": [
    "## Summer Olympics"
   ]
  },
  {
   "cell_type": "code",
   "execution_count": 93,
   "id": "8ecfb456",
   "metadata": {
    "scrolled": true
   },
   "outputs": [
    {
     "data": {
      "image/png": "[encoded data removed]",
      "text/plain": [
       "<Figure size 432x288 with 1 Axes>"
      ]
     },
     "metadata": {
      "needs_background": "light"
     },
     "output_type": "display_data"
    }
   ],
   "source": [
    "# Plot scatter chart\n",
    "medals_summer = summer_df['Medals Won %']\n",
    "lat_summer = summer_df['latitude']\n",
    "\n",
    "slope_s, intercept_s, rvalue_s = st.linregress(medals_summer,lat_summer)[0:3]\n",
    "line_s = slope_s*medals_summer+intercept_s\n",
    "\n",
    "plt.scatter(medals_summer, lat_summer, marker=\"o\", facecolors=\"blue\", alpha=0.5)\n",
    "plt.plot(medals_summer,line_s, color='r')\n",
    "\n",
    "plt.title('Summer: Northern Hemisphere % Medals Won')\n",
    "plt.xlabel('Percent of Medals Won')\n",
    "plt.ylabel('Latitude')\n",
    "\n",
    "line_eq_s = f'y = {round(slope_s,2)}x + {round(intercept_s,2)}'\n",
    "r_s = f'r = {round(rvalue_s,2)}'\n",
    "plt.annotate(line_eq_s,(11,21),fontsize=15,color=\"red\")\n",
    "plt.annotate(r_s,(11,11),fontsize=15,color=\"red\")\n",
    "\n",
    "plt.grid()\n",
    "\n",
    "plt.savefig('output/summer-latitude performance.png', facecolor='w')\n",
    "plt.show()"
   ]
  }
 ],
 "metadata": {
  "kernelspec": {
   "display_name": "Python 3",
   "language": "python",
   "name": "python3"
  },
  "language_info": {
   "codemirror_mode": {
    "name": "ipython",
    "version": 3
   },
   "file_extension": ".py",
   "mimetype": "text/x-python",
   "name": "python",
   "nbconvert_exporter": "python",
   "pygments_lexer": "ipython3",
   "version": "3.8.8"
  }
 },
 "nbformat": 4,
 "nbformat_minor": 5
}
