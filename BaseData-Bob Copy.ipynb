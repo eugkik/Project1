{
 "cells": [
  {
   "cell_type": "code",
   "execution_count": 3,
   "id": "da68e101",
   "metadata": {},
   "outputs": [
    {
     "ename": "ModuleNotFoundError",
     "evalue": "No module named 'config'",
     "output_type": "error",
     "traceback": [
      "\u001b[1;31m---------------------------------------------------------------------------\u001b[0m",
      "\u001b[1;31mModuleNotFoundError\u001b[0m                       Traceback (most recent call last)",
      "\u001b[1;32m<ipython-input-3-9214cc2c3b6d>\u001b[0m in \u001b[0;36m<module>\u001b[1;34m\u001b[0m\n\u001b[0;32m      5\u001b[0m \u001b[1;32mimport\u001b[0m \u001b[0mgmaps\u001b[0m\u001b[1;33m\u001b[0m\u001b[1;33m\u001b[0m\u001b[0m\n\u001b[0;32m      6\u001b[0m \u001b[1;31m# Google developer API key\u001b[0m\u001b[1;33m\u001b[0m\u001b[1;33m\u001b[0m\u001b[1;33m\u001b[0m\u001b[0m\n\u001b[1;32m----> 7\u001b[1;33m \u001b[1;32mfrom\u001b[0m \u001b[0mconfig\u001b[0m \u001b[1;32mimport\u001b[0m \u001b[0mgkey\u001b[0m\u001b[1;33m\u001b[0m\u001b[1;33m\u001b[0m\u001b[0m\n\u001b[0m\u001b[0;32m      8\u001b[0m \u001b[1;31m# Access maps with unique API key\u001b[0m\u001b[1;33m\u001b[0m\u001b[1;33m\u001b[0m\u001b[1;33m\u001b[0m\u001b[0m\n\u001b[0;32m      9\u001b[0m \u001b[0mgmaps\u001b[0m\u001b[1;33m.\u001b[0m\u001b[0mconfigure\u001b[0m\u001b[1;33m(\u001b[0m\u001b[0mapi_key\u001b[0m\u001b[1;33m=\u001b[0m\u001b[0mgkey\u001b[0m\u001b[1;33m)\u001b[0m\u001b[1;33m\u001b[0m\u001b[1;33m\u001b[0m\u001b[0m\n",
      "\u001b[1;31mModuleNotFoundError\u001b[0m: No module named 'config'"
     ]
    }
   ],
   "source": [
    "import pandas as pd\n",
    "import matplotlib.pyplot as plt\n",
    "import seaborn as sns\n",
    "import numpy as np\n",
    "import gmaps\n",
    "# Google developer API key\n",
    "from config import gkey\n",
    "# Access maps with unique API key\n",
    "gmaps.configure(api_key=gkey)\n",
    "\n",
    "%matplotlib inline\n",
    "sns.set_style(\"darkgrid\")"
   ]
  },
  {
   "cell_type": "code",
   "execution_count": 4,
   "id": "a2f1e0bf",
   "metadata": {},
   "outputs": [
    {
     "data": {
      "text/html": [
       "<div>\n",
       "<style scoped>\n",
       "    .dataframe tbody tr th:only-of-type {\n",
       "        vertical-align: middle;\n",
       "    }\n",
       "\n",
       "    .dataframe tbody tr th {\n",
       "        vertical-align: top;\n",
       "    }\n",
       "\n",
       "    .dataframe thead th {\n",
       "        text-align: right;\n",
       "    }\n",
       "</style>\n",
       "<table border=\"1\" class=\"dataframe\">\n",
       "  <thead>\n",
       "    <tr style=\"text-align: right;\">\n",
       "      <th></th>\n",
       "      <th>Alpha-2 code</th>\n",
       "      <th>NOC</th>\n",
       "    </tr>\n",
       "  </thead>\n",
       "  <tbody>\n",
       "    <tr>\n",
       "      <th>0</th>\n",
       "      <td>AF</td>\n",
       "      <td>AFG</td>\n",
       "    </tr>\n",
       "    <tr>\n",
       "      <th>1</th>\n",
       "      <td>AX</td>\n",
       "      <td>ALA</td>\n",
       "    </tr>\n",
       "    <tr>\n",
       "      <th>2</th>\n",
       "      <td>AL</td>\n",
       "      <td>ALB</td>\n",
       "    </tr>\n",
       "    <tr>\n",
       "      <th>3</th>\n",
       "      <td>DZ</td>\n",
       "      <td>DZA</td>\n",
       "    </tr>\n",
       "    <tr>\n",
       "      <th>4</th>\n",
       "      <td>AS</td>\n",
       "      <td>ASM</td>\n",
       "    </tr>\n",
       "  </tbody>\n",
       "</table>\n",
       "</div>"
      ],
      "text/plain": [
       "  Alpha-2 code  NOC\n",
       "0           AF  AFG\n",
       "1           AX  ALA\n",
       "2           AL  ALB\n",
       "3           DZ  DZA\n",
       "4           AS  ASM"
      ]
     },
     "execution_count": 4,
     "metadata": {},
     "output_type": "execute_result"
    }
   ],
   "source": [
    "# country codes conversion\n",
    "country_csv = (\"country_codes.csv\")\n",
    "country_df = pd.read_csv(country_csv)\n",
    "country_df2 = country_df[[\"Alpha-2 code\",\"Alpha-3 code\"]].copy()\n",
    "country_df3 = country_df2.rename(columns={'Alpha-3 code': 'NOC'}, inplace = False)\n",
    "country_df3.head()"
   ]
  },
  {
   "cell_type": "code",
   "execution_count": null,
   "id": "da3e1ac1",
   "metadata": {},
   "outputs": [],
   "source": [
    "path = (\"athlete_events.csv\")\n",
    "df_events = pd.read_csv(path)\n",
    "\n",
    "\n",
    "#df_events[\"join_id\"] = df_events[\"NOC\"] + df_events[\"Year\"].astype(str)\n",
    "# summer_df = df_events[df_events['Season'] == 'Summer']\n",
    "# summer_df[\"BMI\"] = summer_df[\"Weight\"]/((summer_df[\"Height\"]/100)**2)\n",
    "# Add numerical value for medals? 3 = gold, 2= silver, 1 bronze and no medal = 0\n",
    "df_events_a = pd.merge(df_events, country_df3, on=\"NOC\")\n",
    "df_events_a['join_id'] = df_events_a[\"NOC\"] + df_events_a[\"Year\"].astype(str)\n",
    "df_events_a.head(10)\n",
    "\n"
   ]
  },
  {
   "cell_type": "code",
   "execution_count": null,
   "id": "71fb6fe3",
   "metadata": {},
   "outputs": [],
   "source": [
    "path3 = (\"country_lat_long.csv\")\n",
    "lat_long_df = pd.read_csv(path3)\n",
    "lat_long_df2 = lat_long_df.rename(columns={'country': 'Alpha-2 code'})\n",
    "lat_long_df2\n"
   ]
  },
  {
   "cell_type": "code",
   "execution_count": null,
   "id": "7e515aed",
   "metadata": {},
   "outputs": [],
   "source": [
    "# lat_long_df2['join_id'] =  lat_long_df2[\"Alpha-2 code\"] + lat_long_df2[\"Year\"].astype(str)\n",
    "df_events_b = pd.merge(df_events_a, lat_long_df2, on=\"Alpha-2 code\")\n",
    "df_events_b.head()"
   ]
  },
  {
   "cell_type": "code",
   "execution_count": null,
   "id": "183c7082",
   "metadata": {},
   "outputs": [],
   "source": [
    "# population\n",
    "path4 = (\"population_by_country.csv\")\n",
    "pop_df = pd.read_csv(path4)\n",
    "pop_df['join_id'] =  pop_df[\"NOC\"] + pop_df[\"Year\"].astype(str)\n",
    "pop_df"
   ]
  },
  {
   "cell_type": "code",
   "execution_count": null,
   "id": "7cf4b6ea",
   "metadata": {},
   "outputs": [],
   "source": [
    "df_events_c = pd.merge(df_events_b, pop_df, on=\"join_id\")\n",
    "df_events_c\n"
   ]
  },
  {
   "cell_type": "code",
   "execution_count": null,
   "id": "91bb43c6",
   "metadata": {},
   "outputs": [],
   "source": [
    "df_country_summ = df_events_b.groupby([\"NOC\",\"Season\"]).size().reset_index(name=\"Count\")\n",
    "df_country_summ"
   ]
  },
  {
   "cell_type": "code",
   "execution_count": null,
   "id": "4d29176d",
   "metadata": {},
   "outputs": [],
   "source": [
    "df_country_sum2 = df_country_summ.pivot(index='NOC', columns='Season', values=['Count'])\n",
    "df_country_sum2.replace(np.nan,0,inplace=True)\n",
    "df_country_sum2.reset_index(inplace=True)\n",
    "df_country_sum2.columns = [' '.join(col).strip() for col in df_country_sum2.columns.values]\n",
    "\n",
    "df_country_sum2.head()"
   ]
  },
  {
   "cell_type": "code",
   "execution_count": null,
   "id": "5f80ee88",
   "metadata": {},
   "outputs": [],
   "source": [
    "conditions = [\n",
    "    (df_country_sum2['Count Summer']> 0) & (df_country_sum2['Count Winter'] > 0),\n",
    "    (df_country_sum2['Count Summer']> 0) & (df_country_sum2['Count Winter'] == 0),\n",
    "    (df_country_sum2['Count Summer'] == 0) & (df_country_sum2['Count Winter'] > 0)]\n",
    "choices = [2, 1, 3]\n",
    "\n",
    "df_country_sum2['summer_winter'] = np.select(conditions, choices, default=0)\n",
    "df_country_sum2.columns"
   ]
  },
  {
   "cell_type": "code",
   "execution_count": null,
   "id": "05362be1",
   "metadata": {},
   "outputs": [],
   "source": [
    "df_events_d = pd.merge(df_events_b, df_country_sum2, on=\"NOC\")\n",
    "df_events_d"
   ]
  },
  {
   "cell_type": "code",
   "execution_count": null,
   "id": "f8c9ab14",
   "metadata": {},
   "outputs": [],
   "source": [
    "# subset for northern hemisphere\n",
    "both_north = df_events_d[df_events_d[\"latitude\"] >= 0]\n",
    "\n",
    "# Use the 'hue' argument to provide a factor variable\n",
    "sns.lmplot( x=\"longitude\", y=\"latitude\", data=both_north, fit_reg=False, hue='summer_winter', legend=False)\n",
    "plt.legend(loc='upper left')\n",
    "plt.show()"
   ]
  },
  {
   "cell_type": "code",
   "execution_count": null,
   "id": "e4961ba1",
   "metadata": {},
   "outputs": [],
   "source": [
    "# subset for northern hemisphere\n",
    "both_south = df_events_d[df_events_d[\"latitude\"] < 0]\n",
    "\n",
    "# Use the 'hue' argument to provide a factor variable\n",
    "sns.lmplot( x=\"longitude\", y=\"latitude\", data=both_south, fit_reg=False, hue='summer_winter', legend=False)\n",
    "plt.legend(loc='upper left')\n",
    "plt.show()"
   ]
  },
  {
   "cell_type": "code",
   "execution_count": null,
   "id": "839318a5",
   "metadata": {},
   "outputs": [],
   "source": [
    "# subset for northern hemisphere\n",
    "summer_only = df_events_d[df_events_d[\"summer_winter\"] == 1]\n",
    "summer_only2 = summer_only[['latitude','longitude']]\n",
    "\n",
    "# Customize the size of the figure\n",
    "figure_layout = {\n",
    "    'width': '800px',\n",
    "    'height': '400px',\n",
    "    'border': '1px solid black',\n",
    "    'padding': '1px',\n",
    "    'margin': '0 auto 0 auto'\n",
    "}\n",
    "fig = gmaps.figure(layout=figure_layout)\n",
    "\n",
    "summer_only2\n"
   ]
  },
  {
   "cell_type": "code",
   "execution_count": null,
   "id": "22415cad",
   "metadata": {},
   "outputs": [],
   "source": [
    "# Assign the marker layer to a variable\n",
    "markers = gmaps.marker_layer(summer_only2)\n",
    "# Add the layer to the map\n",
    "fig.add_layer(markers)\n",
    "fig"
   ]
  },
  {
   "cell_type": "code",
   "execution_count": null,
   "id": "5f126894",
   "metadata": {},
   "outputs": [],
   "source": []
  }
 ],
 "metadata": {
  "kernelspec": {
   "display_name": "Python 3",
   "language": "python",
   "name": "python3"
  },
  "language_info": {
   "codemirror_mode": {
    "name": "ipython",
    "version": 3
   },
   "file_extension": ".py",
   "mimetype": "text/x-python",
   "name": "python",
   "nbconvert_exporter": "python",
   "pygments_lexer": "ipython3",
   "version": "3.8.10"
  }
 },
 "nbformat": 4,
 "nbformat_minor": 5
}
